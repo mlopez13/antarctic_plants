{
 "cells": [
  {
   "cell_type": "code",
   "execution_count": 1,
   "metadata": {},
   "outputs": [],
   "source": [
    "import numpy as np\n",
    "import pandas as pd\n",
    "\n",
    "import matplotlib.pyplot as plt\n",
    "import matplotlib.ticker as ticker\n",
    "%matplotlib inline\n",
    "\n",
    "import seaborn as sns"
   ]
  },
  {
   "cell_type": "code",
   "execution_count": 2,
   "metadata": {},
   "outputs": [],
   "source": [
    "path = '~/Downloads/antarctic_plant_database_specimen_query_3.csv'"
   ]
  },
  {
   "cell_type": "code",
   "execution_count": 3,
   "metadata": {},
   "outputs": [
    {
     "data": {
      "text/html": [
       "<div>\n",
       "<style scoped>\n",
       "    .dataframe tbody tr th:only-of-type {\n",
       "        vertical-align: middle;\n",
       "    }\n",
       "\n",
       "    .dataframe tbody tr th {\n",
       "        vertical-align: top;\n",
       "    }\n",
       "\n",
       "    .dataframe thead th {\n",
       "        text-align: right;\n",
       "    }\n",
       "</style>\n",
       "<table border=\"1\" class=\"dataframe\">\n",
       "  <thead>\n",
       "    <tr style=\"text-align: right;\">\n",
       "      <th></th>\n",
       "      <th>Type</th>\n",
       "      <th>Species</th>\n",
       "      <th>Current name</th>\n",
       "      <th>Determiner</th>\n",
       "      <th>Collection</th>\n",
       "      <th>Collectionnumber</th>\n",
       "      <th>Collector</th>\n",
       "      <th>Collectiondate</th>\n",
       "      <th>Geographicarea</th>\n",
       "      <th>Latitude(decimaldegrees)</th>\n",
       "      <th>Longitude(decimaldegrees)</th>\n",
       "      <th>Habitat andlocality</th>\n",
       "      <th>Notes</th>\n",
       "      <th>Herbaria inwhich specimen is held</th>\n",
       "    </tr>\n",
       "  </thead>\n",
       "  <tbody>\n",
       "    <tr>\n",
       "      <th>0</th>\n",
       "      <td>fungus</td>\n",
       "      <td>Arrhenia auriscalpium (Fr.) Fr.</td>\n",
       "      <td>Arrhenia auriscalpium (Fr.) Fr.</td>\n",
       "      <td></td>\n",
       "      <td>Smith, R.I.L.</td>\n",
       "      <td>=\"07300\"</td>\n",
       "      <td>Smith, R.I.L.</td>\n",
       "      <td>=\"03:02:1989\"</td>\n",
       "      <td>Antarctic Peninsula</td>\n",
       "      <td>-64.00</td>\n",
       "      <td>-57.67</td>\n",
       "      <td>Amongst moss (Bryum algens) in seepage area. A...</td>\n",
       "      <td>NaN</td>\n",
       "      <td>AAS K</td>\n",
       "    </tr>\n",
       "    <tr>\n",
       "      <th>1</th>\n",
       "      <td>fungus</td>\n",
       "      <td>Arrhenia auriscalpium (Fr.) Fr.</td>\n",
       "      <td>Arrhenia auriscalpium (Fr.) Fr.</td>\n",
       "      <td></td>\n",
       "      <td>Smith, R.I.L.</td>\n",
       "      <td>=\"07302\"</td>\n",
       "      <td>Smith, R.I.L.</td>\n",
       "      <td>=\"19:01:1989\"</td>\n",
       "      <td>Antarctic Peninsula</td>\n",
       "      <td>-63.93</td>\n",
       "      <td>-57.52</td>\n",
       "      <td>On moss (Bryum algens) below late snow bank. A...</td>\n",
       "      <td>NaN</td>\n",
       "      <td>AAS K</td>\n",
       "    </tr>\n",
       "    <tr>\n",
       "      <th>2</th>\n",
       "      <td>lichen</td>\n",
       "      <td>Arthrorhaphis citrinella (Ach.) Poelt.</td>\n",
       "      <td>Arthrorhaphis citrinella (Ach.) Poelt.</td>\n",
       "      <td>Ovstedal, D.O. 1992</td>\n",
       "      <td>Smith, R.I.L.</td>\n",
       "      <td>=\"02756\"</td>\n",
       "      <td>Sharp, M.</td>\n",
       "      <td>=\"29:12:1977\"</td>\n",
       "      <td>Antarctic Peninsula, Oscar II Coast</td>\n",
       "      <td>-66.25</td>\n",
       "      <td>-62.92</td>\n",
       "      <td>On soil, In damp crevices of SW facing rocks. ...</td>\n",
       "      <td>Lime green.</td>\n",
       "      <td>AAS</td>\n",
       "    </tr>\n",
       "    <tr>\n",
       "      <th>3</th>\n",
       "      <td>lichen</td>\n",
       "      <td>Arthrorhaphis citrinella (Ach.) Poelt.</td>\n",
       "      <td>Arthrorhaphis citrinella (Ach.) Poelt.</td>\n",
       "      <td>Lindsay, D.C. conf. Ovstedal, D.O. 1998</td>\n",
       "      <td>Lovegrove, I.W.</td>\n",
       "      <td>=\"00202B\"</td>\n",
       "      <td>Lovegrove, I.W.</td>\n",
       "      <td>=\"21:02:1983\"</td>\n",
       "      <td>Antarctic Peninsula</td>\n",
       "      <td>-69.53</td>\n",
       "      <td>-63.10</td>\n",
       "      <td>Wall facing north-east, tilted back 60 deg. c....</td>\n",
       "      <td>NaN</td>\n",
       "      <td>AAS</td>\n",
       "    </tr>\n",
       "    <tr>\n",
       "      <th>4</th>\n",
       "      <td>lichen</td>\n",
       "      <td>Arthrorhaphis citrinella (Ach.) Poelt.</td>\n",
       "      <td>Arthrorhaphis citrinella (Ach.) Poelt.</td>\n",
       "      <td>Ovstedal, D.O. 1998</td>\n",
       "      <td>Smith, R.I.L.</td>\n",
       "      <td>=\"10543\"</td>\n",
       "      <td>Smith, R.I.L.</td>\n",
       "      <td>=\"22:12:1997\"</td>\n",
       "      <td>Antarctic Peninsula</td>\n",
       "      <td>-69.75</td>\n",
       "      <td>-75.25</td>\n",
       "      <td>On soil and dead moss on summit area. Alt. 125...</td>\n",
       "      <td>NaN</td>\n",
       "      <td>AAS</td>\n",
       "    </tr>\n",
       "  </tbody>\n",
       "</table>\n",
       "</div>"
      ],
      "text/plain": [
       "     Type                                 Species  \\\n",
       "0  fungus         Arrhenia auriscalpium (Fr.) Fr.   \n",
       "1  fungus         Arrhenia auriscalpium (Fr.) Fr.   \n",
       "2  lichen  Arthrorhaphis citrinella (Ach.) Poelt.   \n",
       "3  lichen  Arthrorhaphis citrinella (Ach.) Poelt.   \n",
       "4  lichen  Arthrorhaphis citrinella (Ach.) Poelt.   \n",
       "\n",
       "                             Current name  \\\n",
       "0         Arrhenia auriscalpium (Fr.) Fr.   \n",
       "1         Arrhenia auriscalpium (Fr.) Fr.   \n",
       "2  Arthrorhaphis citrinella (Ach.) Poelt.   \n",
       "3  Arthrorhaphis citrinella (Ach.) Poelt.   \n",
       "4  Arthrorhaphis citrinella (Ach.) Poelt.   \n",
       "\n",
       "                                Determiner       Collection Collectionnumber  \\\n",
       "0                                             Smith, R.I.L.         =\"07300\"   \n",
       "1                                             Smith, R.I.L.         =\"07302\"   \n",
       "2                      Ovstedal, D.O. 1992    Smith, R.I.L.         =\"02756\"   \n",
       "3  Lindsay, D.C. conf. Ovstedal, D.O. 1998  Lovegrove, I.W.        =\"00202B\"   \n",
       "4                      Ovstedal, D.O. 1998    Smith, R.I.L.         =\"10543\"   \n",
       "\n",
       "         Collector Collectiondate                       Geographicarea  \\\n",
       "0    Smith, R.I.L.  =\"03:02:1989\"                  Antarctic Peninsula   \n",
       "1    Smith, R.I.L.  =\"19:01:1989\"                  Antarctic Peninsula   \n",
       "2        Sharp, M.  =\"29:12:1977\"  Antarctic Peninsula, Oscar II Coast   \n",
       "3  Lovegrove, I.W.  =\"21:02:1983\"                  Antarctic Peninsula   \n",
       "4    Smith, R.I.L.  =\"22:12:1997\"                  Antarctic Peninsula   \n",
       "\n",
       "   Latitude(decimaldegrees)  Longitude(decimaldegrees)  \\\n",
       "0                    -64.00                     -57.67   \n",
       "1                    -63.93                     -57.52   \n",
       "2                    -66.25                     -62.92   \n",
       "3                    -69.53                     -63.10   \n",
       "4                    -69.75                     -75.25   \n",
       "\n",
       "                                 Habitat andlocality        Notes  \\\n",
       "0  Amongst moss (Bryum algens) in seepage area. A...          NaN   \n",
       "1  On moss (Bryum algens) below late snow bank. A...          NaN   \n",
       "2  On soil, In damp crevices of SW facing rocks. ...  Lime green.   \n",
       "3  Wall facing north-east, tilted back 60 deg. c....          NaN   \n",
       "4  On soil and dead moss on summit area. Alt. 125...          NaN   \n",
       "\n",
       "  Herbaria inwhich specimen is held  \n",
       "0                             AAS K  \n",
       "1                             AAS K  \n",
       "2                               AAS  \n",
       "3                               AAS  \n",
       "4                               AAS  "
      ]
     },
     "execution_count": 3,
     "metadata": {},
     "output_type": "execute_result"
    }
   ],
   "source": [
    "df = pd.read_csv(path, encoding='ISO-8859-1')\n",
    "df.head()"
   ]
  },
  {
   "cell_type": "code",
   "execution_count": 4,
   "metadata": {},
   "outputs": [
    {
     "data": {
      "text/plain": [
       "Type                                  object\n",
       "Species                               object\n",
       "Current name                          object\n",
       "Determiner                            object\n",
       "Collection                            object\n",
       "Collectionnumber                      object\n",
       "Collector                             object\n",
       "Collectiondate                        object\n",
       "Geographicarea                        object\n",
       "Latitude(decimaldegrees)             float64\n",
       "Longitude(decimaldegrees)            float64\n",
       "Habitat andlocality                   object\n",
       "Notes                                 object\n",
       "Herbaria inwhich specimen is held     object\n",
       "dtype: object"
      ]
     },
     "execution_count": 4,
     "metadata": {},
     "output_type": "execute_result"
    }
   ],
   "source": [
    "df.dtypes"
   ]
  },
  {
   "cell_type": "code",
   "execution_count": 5,
   "metadata": {},
   "outputs": [
    {
     "data": {
      "text/plain": [
       "array(['fungus', 'lichen', 'hepatic', 'moss', 'phanerogam',\n",
       "       'cyanobacterium', 'alga'], dtype=object)"
      ]
     },
     "execution_count": 5,
     "metadata": {},
     "output_type": "execute_result"
    }
   ],
   "source": [
    "df['Type'].unique()"
   ]
  },
  {
   "cell_type": "code",
   "execution_count": 6,
   "metadata": {},
   "outputs": [],
   "source": [
    "df['Collectiondate'] = df['Collectiondate'].str.replace('=','')\n",
    "df['Collectiondate'] = df['Collectiondate'].str.replace('\"','')\n",
    "df['Collectiondate'] = df['Collectiondate'].str.replace('00:','01:')"
   ]
  },
  {
   "cell_type": "code",
   "execution_count": 7,
   "metadata": {},
   "outputs": [],
   "source": [
    "formats = ['%Y',\n",
    "           '%m.%Y', '%m:%Y',\n",
    "           '%d.%m.%Y', '%d:%m:%Y']"
   ]
  },
  {
   "cell_type": "code",
   "execution_count": 8,
   "metadata": {},
   "outputs": [],
   "source": [
    "def string_to_date(s):\n",
    "    d = None\n",
    "    for f in formats:\n",
    "        try:\n",
    "            d = pd.to_datetime(s, format=f)\n",
    "        except:\n",
    "            pass\n",
    "    return d"
   ]
  },
  {
   "cell_type": "code",
   "execution_count": 9,
   "metadata": {},
   "outputs": [],
   "source": [
    "df['Date'] = df['Collectiondate']\n",
    "\n",
    "for f in formats:\n",
    "    df['Date'] = df['Date'].apply(string_to_date)"
   ]
  },
  {
   "cell_type": "code",
   "execution_count": 10,
   "metadata": {},
   "outputs": [
    {
     "data": {
      "text/plain": [
       "207"
      ]
     },
     "execution_count": 10,
     "metadata": {},
     "output_type": "execute_result"
    }
   ],
   "source": [
    "df['Date'].isna().sum()"
   ]
  },
  {
   "cell_type": "code",
   "execution_count": 11,
   "metadata": {},
   "outputs": [
    {
     "data": {
      "text/plain": [
       "65"
      ]
     },
     "execution_count": 11,
     "metadata": {},
     "output_type": "execute_result"
    }
   ],
   "source": [
    "(df['Date'].isna() & ~(df['Collectiondate']=='')).sum()"
   ]
  },
  {
   "cell_type": "code",
   "execution_count": 12,
   "metadata": {},
   "outputs": [
    {
     "data": {
      "text/plain": [
       "array(['1987-88', '31:07:58', '1980-81', '1908-10', '1940-1941',\n",
       "       '1994-1995', '12:1966-01:1967', '07-08:1972', '0:1952',\n",
       "       '1967-1968', '05-13:03:1940', '1901-1903', '02-03:12:1940'],\n",
       "      dtype=object)"
      ]
     },
     "execution_count": 12,
     "metadata": {},
     "output_type": "execute_result"
    }
   ],
   "source": [
    "df[df['Date'].isna() & ~(df['Collectiondate']=='')]['Collectiondate'].unique()"
   ]
  },
  {
   "cell_type": "code",
   "execution_count": 13,
   "metadata": {},
   "outputs": [],
   "source": [
    "wrong_dates = {\n",
    "    '1987-88': '1988',\n",
    "    '31:07:58': '31:07:1958',\n",
    "    '1980-81': '1981',\n",
    "    '1908-10': '1910',\n",
    "    '1940-1941': '1941',\n",
    "    '1994-1995': '1995',\n",
    "    '12:1966-01:1967': '01:1967',\n",
    "    '07-08:1972': '08:1972',\n",
    "    '0:1952': '1952',\n",
    "    '1967-1968': '1968',\n",
    "    '05-13:03:1940': '13:03:1940',\n",
    "    '1901-1903': '1903',\n",
    "    '02-03:12:1940': '03:12:1940'\n",
    "}\n",
    "\n",
    "for wd in wrong_dates:\n",
    "    df['Collectiondate'] = df['Collectiondate'].str.replace(wd,wrong_dates[wd])"
   ]
  },
  {
   "cell_type": "code",
   "execution_count": 14,
   "metadata": {},
   "outputs": [],
   "source": [
    "df['Date'] = df['Collectiondate']\n",
    "\n",
    "for f in formats:\n",
    "    df['Date'] = df['Date'].apply(string_to_date)"
   ]
  },
  {
   "cell_type": "code",
   "execution_count": 15,
   "metadata": {},
   "outputs": [
    {
     "data": {
      "text/plain": [
       "142"
      ]
     },
     "execution_count": 15,
     "metadata": {},
     "output_type": "execute_result"
    }
   ],
   "source": [
    "df['Date'].isna().sum()"
   ]
  },
  {
   "cell_type": "code",
   "execution_count": 16,
   "metadata": {},
   "outputs": [
    {
     "data": {
      "text/plain": [
       "0"
      ]
     },
     "execution_count": 16,
     "metadata": {},
     "output_type": "execute_result"
    }
   ],
   "source": [
    "(df['Date'].isna() & ~(df['Collectiondate']=='')).sum()"
   ]
  },
  {
   "cell_type": "code",
   "execution_count": 17,
   "metadata": {},
   "outputs": [],
   "source": [
    "df = df.dropna(subset=['Date'])"
   ]
  },
  {
   "cell_type": "code",
   "execution_count": 18,
   "metadata": {},
   "outputs": [],
   "source": [
    "df['Year'] = pd.to_numeric(df['Date'].apply(lambda d: d.strftime('%Y')))\n",
    "df['Month'] = df['Date'].apply(lambda d: d.strftime('%b'))"
   ]
  },
  {
   "cell_type": "code",
   "execution_count": 19,
   "metadata": {},
   "outputs": [],
   "source": [
    "df['Decade'] = df['Year']//10*10"
   ]
  },
  {
   "cell_type": "code",
   "execution_count": 20,
   "metadata": {},
   "outputs": [
    {
     "data": {
      "text/plain": [
       "array(['Antarctic Peninsula', 'Antarctic Peninsula, Oscar II Coast',\n",
       "       'Antarctic Peninsula, Foyn Coast',\n",
       "       'Antarctic Peninsula, Bowman Coast',\n",
       "       'Antarctic Peninsula, Graham Coast',\n",
       "       'Antarctic Peninsula, Danco Coast',\n",
       "       'Antarctic Peninsula, Trinity Peninsula, West Coast',\n",
       "       'Antarctic Peninsula, Loubet Coast',\n",
       "       'Antarctic Peninsula, Fallieres Coast',\n",
       "       'Antarctic Peninsula, Wilkins Coast',\n",
       "       'Antarctic Peninsula, Alexander Island',\n",
       "       'Antarctic Peninsula, Trinity Peninsula, East Coast',\n",
       "       'Antarctic Peninsula, Palmer Coast',\n",
       "       'Antarctic Peninsula, Nordenskjold Coast',\n",
       "       'Antarctic Peninsula, Trinity Peninsula'], dtype=object)"
      ]
     },
     "execution_count": 20,
     "metadata": {},
     "output_type": "execute_result"
    }
   ],
   "source": [
    "df['Geographicarea'].unique()"
   ]
  },
  {
   "cell_type": "code",
   "execution_count": 21,
   "metadata": {},
   "outputs": [
    {
     "data": {
      "text/plain": [
       "Index(['Type', 'Species', 'Current name', 'Determiner', 'Collection',\n",
       "       'Collectionnumber', 'Collector', 'Collectiondate', 'Geographicarea',\n",
       "       'Latitude(decimaldegrees)', 'Longitude(decimaldegrees)',\n",
       "       'Habitat andlocality', 'Notes', 'Herbaria inwhich specimen is held',\n",
       "       'Date', 'Year', 'Month', 'Decade'],\n",
       "      dtype='object')"
      ]
     },
     "execution_count": 21,
     "metadata": {},
     "output_type": "execute_result"
    }
   ],
   "source": [
    "df.columns"
   ]
  },
  {
   "cell_type": "code",
   "execution_count": 22,
   "metadata": {},
   "outputs": [
    {
     "data": {
      "text/html": [
       "<div>\n",
       "<style scoped>\n",
       "    .dataframe tbody tr th:only-of-type {\n",
       "        vertical-align: middle;\n",
       "    }\n",
       "\n",
       "    .dataframe tbody tr th {\n",
       "        vertical-align: top;\n",
       "    }\n",
       "\n",
       "    .dataframe thead th {\n",
       "        text-align: right;\n",
       "    }\n",
       "</style>\n",
       "<table border=\"1\" class=\"dataframe\">\n",
       "  <thead>\n",
       "    <tr style=\"text-align: right;\">\n",
       "      <th></th>\n",
       "      <th>Year</th>\n",
       "      <th>Decade</th>\n",
       "      <th>Month</th>\n",
       "      <th>Geographicarea</th>\n",
       "      <th>Latitude(decimaldegrees)</th>\n",
       "      <th>Longitude(decimaldegrees)</th>\n",
       "      <th>Type</th>\n",
       "    </tr>\n",
       "    <tr>\n",
       "      <th>Date</th>\n",
       "      <th></th>\n",
       "      <th></th>\n",
       "      <th></th>\n",
       "      <th></th>\n",
       "      <th></th>\n",
       "      <th></th>\n",
       "      <th></th>\n",
       "    </tr>\n",
       "  </thead>\n",
       "  <tbody>\n",
       "    <tr>\n",
       "      <th>1843-01-01</th>\n",
       "      <td>1843</td>\n",
       "      <td>1840</td>\n",
       "      <td>Jan</td>\n",
       "      <td>Antarctic Peninsula</td>\n",
       "      <td>-64.20</td>\n",
       "      <td>-56.85</td>\n",
       "      <td>lichen</td>\n",
       "    </tr>\n",
       "    <tr>\n",
       "      <th>1843-01-06</th>\n",
       "      <td>1843</td>\n",
       "      <td>1840</td>\n",
       "      <td>Jan</td>\n",
       "      <td>Antarctic Peninsula</td>\n",
       "      <td>-64.20</td>\n",
       "      <td>-56.85</td>\n",
       "      <td>moss</td>\n",
       "    </tr>\n",
       "    <tr>\n",
       "      <th>1898-01-01</th>\n",
       "      <td>1898</td>\n",
       "      <td>1890</td>\n",
       "      <td>Jan</td>\n",
       "      <td>Antarctic Peninsula, Danco Coast</td>\n",
       "      <td>-64.25</td>\n",
       "      <td>-62.33</td>\n",
       "      <td>moss</td>\n",
       "    </tr>\n",
       "    <tr>\n",
       "      <th>1898-01-01</th>\n",
       "      <td>1898</td>\n",
       "      <td>1890</td>\n",
       "      <td>Jan</td>\n",
       "      <td>Antarctic Peninsula</td>\n",
       "      <td>-64.95</td>\n",
       "      <td>-63.45</td>\n",
       "      <td>lichen</td>\n",
       "    </tr>\n",
       "    <tr>\n",
       "      <th>1898-01-01</th>\n",
       "      <td>1898</td>\n",
       "      <td>1890</td>\n",
       "      <td>Jan</td>\n",
       "      <td>Antarctic Peninsula, Danco Coast</td>\n",
       "      <td>-64.77</td>\n",
       "      <td>-62.72</td>\n",
       "      <td>moss</td>\n",
       "    </tr>\n",
       "  </tbody>\n",
       "</table>\n",
       "</div>"
      ],
      "text/plain": [
       "            Year  Decade Month                    Geographicarea  \\\n",
       "Date                                                               \n",
       "1843-01-01  1843    1840   Jan               Antarctic Peninsula   \n",
       "1843-01-06  1843    1840   Jan               Antarctic Peninsula   \n",
       "1898-01-01  1898    1890   Jan  Antarctic Peninsula, Danco Coast   \n",
       "1898-01-01  1898    1890   Jan               Antarctic Peninsula   \n",
       "1898-01-01  1898    1890   Jan  Antarctic Peninsula, Danco Coast   \n",
       "\n",
       "            Latitude(decimaldegrees)  Longitude(decimaldegrees)    Type  \n",
       "Date                                                                     \n",
       "1843-01-01                    -64.20                     -56.85  lichen  \n",
       "1843-01-06                    -64.20                     -56.85    moss  \n",
       "1898-01-01                    -64.25                     -62.33    moss  \n",
       "1898-01-01                    -64.95                     -63.45  lichen  \n",
       "1898-01-01                    -64.77                     -62.72    moss  "
      ]
     },
     "execution_count": 22,
     "metadata": {},
     "output_type": "execute_result"
    }
   ],
   "source": [
    "columns = ['Date', 'Year', 'Decade', 'Month',\n",
    "           'Geographicarea', 'Latitude(decimaldegrees)', 'Longitude(decimaldegrees)',\n",
    "           'Type']\n",
    "\n",
    "plants = df[columns]\n",
    "plants = plants.sort_values(by='Date')\n",
    "plants = plants.set_index('Date')\n",
    "plants.head()"
   ]
  },
  {
   "cell_type": "code",
   "execution_count": 23,
   "metadata": {},
   "outputs": [
    {
     "data": {
      "text/plain": [
       "Year                           int64\n",
       "Decade                         int64\n",
       "Month                         object\n",
       "Geographicarea                object\n",
       "Latitude(decimaldegrees)     float64\n",
       "Longitude(decimaldegrees)    float64\n",
       "Type                          object\n",
       "dtype: object"
      ]
     },
     "execution_count": 23,
     "metadata": {},
     "output_type": "execute_result"
    }
   ],
   "source": [
    "plants.dtypes"
   ]
  },
  {
   "cell_type": "code",
   "execution_count": 24,
   "metadata": {},
   "outputs": [
    {
     "data": {
      "image/png": "[encoded data removed]",
      "text/plain": [
       "<Figure size 720x360 with 1 Axes>"
      ]
     },
     "metadata": {
      "needs_background": "light"
     },
     "output_type": "display_data"
    }
   ],
   "source": [
    "plt.figure(figsize=(10, 5))\n",
    "sns.countplot(x='Type', data=plants)\n",
    "plt.grid()\n",
    "plt.show()"
   ]
  },
  {
   "cell_type": "code",
   "execution_count": 25,
   "metadata": {},
   "outputs": [
    {
     "data": {
      "text/html": [
       "<div>\n",
       "<style scoped>\n",
       "    .dataframe tbody tr th:only-of-type {\n",
       "        vertical-align: middle;\n",
       "    }\n",
       "\n",
       "    .dataframe tbody tr th {\n",
       "        vertical-align: top;\n",
       "    }\n",
       "\n",
       "    .dataframe thead th {\n",
       "        text-align: right;\n",
       "    }\n",
       "</style>\n",
       "<table border=\"1\" class=\"dataframe\">\n",
       "  <thead>\n",
       "    <tr style=\"text-align: right;\">\n",
       "      <th></th>\n",
       "      <th>Year</th>\n",
       "      <th>Decade</th>\n",
       "      <th>Month</th>\n",
       "      <th>Geographicarea</th>\n",
       "      <th>Latitude(decimaldegrees)</th>\n",
       "      <th>Longitude(decimaldegrees)</th>\n",
       "      <th>Type</th>\n",
       "      <th>alga</th>\n",
       "      <th>cyanobacterium</th>\n",
       "      <th>fungus</th>\n",
       "      <th>hepatic</th>\n",
       "      <th>lichen</th>\n",
       "      <th>moss</th>\n",
       "      <th>phanerogam</th>\n",
       "    </tr>\n",
       "    <tr>\n",
       "      <th>Date</th>\n",
       "      <th></th>\n",
       "      <th></th>\n",
       "      <th></th>\n",
       "      <th></th>\n",
       "      <th></th>\n",
       "      <th></th>\n",
       "      <th></th>\n",
       "      <th></th>\n",
       "      <th></th>\n",
       "      <th></th>\n",
       "      <th></th>\n",
       "      <th></th>\n",
       "      <th></th>\n",
       "      <th></th>\n",
       "    </tr>\n",
       "  </thead>\n",
       "  <tbody>\n",
       "    <tr>\n",
       "      <th>1843-01-01</th>\n",
       "      <td>1843</td>\n",
       "      <td>1840</td>\n",
       "      <td>Jan</td>\n",
       "      <td>Antarctic Peninsula</td>\n",
       "      <td>-64.20</td>\n",
       "      <td>-56.85</td>\n",
       "      <td>lichen</td>\n",
       "      <td>0</td>\n",
       "      <td>0</td>\n",
       "      <td>0</td>\n",
       "      <td>0</td>\n",
       "      <td>1</td>\n",
       "      <td>0</td>\n",
       "      <td>0</td>\n",
       "    </tr>\n",
       "    <tr>\n",
       "      <th>1843-01-06</th>\n",
       "      <td>1843</td>\n",
       "      <td>1840</td>\n",
       "      <td>Jan</td>\n",
       "      <td>Antarctic Peninsula</td>\n",
       "      <td>-64.20</td>\n",
       "      <td>-56.85</td>\n",
       "      <td>moss</td>\n",
       "      <td>0</td>\n",
       "      <td>0</td>\n",
       "      <td>0</td>\n",
       "      <td>0</td>\n",
       "      <td>0</td>\n",
       "      <td>1</td>\n",
       "      <td>0</td>\n",
       "    </tr>\n",
       "    <tr>\n",
       "      <th>1898-01-01</th>\n",
       "      <td>1898</td>\n",
       "      <td>1890</td>\n",
       "      <td>Jan</td>\n",
       "      <td>Antarctic Peninsula, Danco Coast</td>\n",
       "      <td>-64.25</td>\n",
       "      <td>-62.33</td>\n",
       "      <td>moss</td>\n",
       "      <td>0</td>\n",
       "      <td>0</td>\n",
       "      <td>0</td>\n",
       "      <td>0</td>\n",
       "      <td>0</td>\n",
       "      <td>1</td>\n",
       "      <td>0</td>\n",
       "    </tr>\n",
       "    <tr>\n",
       "      <th>1898-01-01</th>\n",
       "      <td>1898</td>\n",
       "      <td>1890</td>\n",
       "      <td>Jan</td>\n",
       "      <td>Antarctic Peninsula</td>\n",
       "      <td>-64.95</td>\n",
       "      <td>-63.45</td>\n",
       "      <td>lichen</td>\n",
       "      <td>0</td>\n",
       "      <td>0</td>\n",
       "      <td>0</td>\n",
       "      <td>0</td>\n",
       "      <td>1</td>\n",
       "      <td>0</td>\n",
       "      <td>0</td>\n",
       "    </tr>\n",
       "    <tr>\n",
       "      <th>1898-01-01</th>\n",
       "      <td>1898</td>\n",
       "      <td>1890</td>\n",
       "      <td>Jan</td>\n",
       "      <td>Antarctic Peninsula, Danco Coast</td>\n",
       "      <td>-64.77</td>\n",
       "      <td>-62.72</td>\n",
       "      <td>moss</td>\n",
       "      <td>0</td>\n",
       "      <td>0</td>\n",
       "      <td>0</td>\n",
       "      <td>0</td>\n",
       "      <td>0</td>\n",
       "      <td>1</td>\n",
       "      <td>0</td>\n",
       "    </tr>\n",
       "  </tbody>\n",
       "</table>\n",
       "</div>"
      ],
      "text/plain": [
       "            Year  Decade Month                    Geographicarea  \\\n",
       "Date                                                               \n",
       "1843-01-01  1843    1840   Jan               Antarctic Peninsula   \n",
       "1843-01-06  1843    1840   Jan               Antarctic Peninsula   \n",
       "1898-01-01  1898    1890   Jan  Antarctic Peninsula, Danco Coast   \n",
       "1898-01-01  1898    1890   Jan               Antarctic Peninsula   \n",
       "1898-01-01  1898    1890   Jan  Antarctic Peninsula, Danco Coast   \n",
       "\n",
       "            Latitude(decimaldegrees)  Longitude(decimaldegrees)    Type  alga  \\\n",
       "Date                                                                            \n",
       "1843-01-01                    -64.20                     -56.85  lichen     0   \n",
       "1843-01-06                    -64.20                     -56.85    moss     0   \n",
       "1898-01-01                    -64.25                     -62.33    moss     0   \n",
       "1898-01-01                    -64.95                     -63.45  lichen     0   \n",
       "1898-01-01                    -64.77                     -62.72    moss     0   \n",
       "\n",
       "            cyanobacterium  fungus  hepatic  lichen  moss  phanerogam  \n",
       "Date                                                                   \n",
       "1843-01-01               0       0        0       1     0           0  \n",
       "1843-01-06               0       0        0       0     1           0  \n",
       "1898-01-01               0       0        0       0     1           0  \n",
       "1898-01-01               0       0        0       1     0           0  \n",
       "1898-01-01               0       0        0       0     1           0  "
      ]
     },
     "execution_count": 25,
     "metadata": {},
     "output_type": "execute_result"
    }
   ],
   "source": [
    "plants = pd.concat([plants, pd.get_dummies(plants['Type'])], axis=1)\n",
    "plants.head()"
   ]
  },
  {
   "cell_type": "code",
   "execution_count": 26,
   "metadata": {},
   "outputs": [
    {
     "data": {
      "text/html": [
       "<div>\n",
       "<style scoped>\n",
       "    .dataframe tbody tr th:only-of-type {\n",
       "        vertical-align: middle;\n",
       "    }\n",
       "\n",
       "    .dataframe tbody tr th {\n",
       "        vertical-align: top;\n",
       "    }\n",
       "\n",
       "    .dataframe thead th {\n",
       "        text-align: right;\n",
       "    }\n",
       "</style>\n",
       "<table border=\"1\" class=\"dataframe\">\n",
       "  <thead>\n",
       "    <tr style=\"text-align: right;\">\n",
       "      <th></th>\n",
       "      <th>lichen</th>\n",
       "      <th>moss</th>\n",
       "      <th>alga</th>\n",
       "      <th>phanerogam</th>\n",
       "      <th>hepatic</th>\n",
       "      <th>fungus</th>\n",
       "      <th>cyanobacterium</th>\n",
       "    </tr>\n",
       "    <tr>\n",
       "      <th>Decade</th>\n",
       "      <th></th>\n",
       "      <th></th>\n",
       "      <th></th>\n",
       "      <th></th>\n",
       "      <th></th>\n",
       "      <th></th>\n",
       "      <th></th>\n",
       "    </tr>\n",
       "  </thead>\n",
       "  <tbody>\n",
       "    <tr>\n",
       "      <th>1840</th>\n",
       "      <td>1.0</td>\n",
       "      <td>1.0</td>\n",
       "      <td>0.0</td>\n",
       "      <td>0.0</td>\n",
       "      <td>0.0</td>\n",
       "      <td>0.0</td>\n",
       "      <td>0.0</td>\n",
       "    </tr>\n",
       "    <tr>\n",
       "      <th>1890</th>\n",
       "      <td>1.0</td>\n",
       "      <td>47.0</td>\n",
       "      <td>0.0</td>\n",
       "      <td>0.0</td>\n",
       "      <td>0.0</td>\n",
       "      <td>0.0</td>\n",
       "      <td>0.0</td>\n",
       "    </tr>\n",
       "    <tr>\n",
       "      <th>1900</th>\n",
       "      <td>42.0</td>\n",
       "      <td>208.0</td>\n",
       "      <td>0.0</td>\n",
       "      <td>0.0</td>\n",
       "      <td>0.0</td>\n",
       "      <td>0.0</td>\n",
       "      <td>0.0</td>\n",
       "    </tr>\n",
       "    <tr>\n",
       "      <th>1910</th>\n",
       "      <td>32.0</td>\n",
       "      <td>0.0</td>\n",
       "      <td>0.0</td>\n",
       "      <td>0.0</td>\n",
       "      <td>0.0</td>\n",
       "      <td>0.0</td>\n",
       "      <td>0.0</td>\n",
       "    </tr>\n",
       "    <tr>\n",
       "      <th>1930</th>\n",
       "      <td>57.0</td>\n",
       "      <td>45.0</td>\n",
       "      <td>0.0</td>\n",
       "      <td>0.0</td>\n",
       "      <td>0.0</td>\n",
       "      <td>0.0</td>\n",
       "      <td>0.0</td>\n",
       "    </tr>\n",
       "  </tbody>\n",
       "</table>\n",
       "</div>"
      ],
      "text/plain": [
       "        lichen   moss  alga  phanerogam  hepatic  fungus  cyanobacterium\n",
       "Decade                                                                  \n",
       "1840       1.0    1.0   0.0         0.0      0.0     0.0             0.0\n",
       "1890       1.0   47.0   0.0         0.0      0.0     0.0             0.0\n",
       "1900      42.0  208.0   0.0         0.0      0.0     0.0             0.0\n",
       "1910      32.0    0.0   0.0         0.0      0.0     0.0             0.0\n",
       "1930      57.0   45.0   0.0         0.0      0.0     0.0             0.0"
      ]
     },
     "execution_count": 26,
     "metadata": {},
     "output_type": "execute_result"
    }
   ],
   "source": [
    "types = plants['Type'].unique()\n",
    "subset = plants.groupby('Decade')[types].sum()\n",
    "subset.head()"
   ]
  },
  {
   "cell_type": "code",
   "execution_count": 27,
   "metadata": {},
   "outputs": [
    {
     "data": {
      "image/png": "[encoded data removed]",
      "text/plain": [
       "<Figure size 1080x360 with 1 Axes>"
      ]
     },
     "metadata": {
      "needs_background": "light"
     },
     "output_type": "display_data"
    }
   ],
   "source": [
    "ticks = np.arange(subset.index.min(), subset.index.max() + 10, 10)\n",
    "\n",
    "plt.figure(figsize=(15, 5))\n",
    "sns.lineplot(data=subset, dashes=False)\n",
    "plt.xticks(ticks)\n",
    "plt.grid()\n",
    "plt.show()"
   ]
  }
 ],
 "metadata": {
  "kernelspec": {
   "display_name": "Python 3",
   "language": "python",
   "name": "python3"
  },
  "language_info": {
   "codemirror_mode": {
    "name": "ipython",
    "version": 3
   },
   "file_extension": ".py",
   "mimetype": "text/x-python",
   "name": "python",
   "nbconvert_exporter": "python",
   "pygments_lexer": "ipython3",
   "version": "3.8.3"
  }
 },
 "nbformat": 4,
 "nbformat_minor": 4
}
